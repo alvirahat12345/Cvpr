{
  "nbformat": 4,
  "nbformat_minor": 0,
  "metadata": {
    "colab": {
      "provenance": []
    },
    "kernelspec": {
      "name": "python3",
      "display_name": "Python 3"
    },
    "language_info": {
      "name": "python"
    }
  },
  "cells": [
    {
      "cell_type": "code",
      "source": [
        "import numpy as np\n",
        "import matplotlib.pyplot as plt\n",
        "from sklearn.datasets import make_classification\n",
        "from sklearn.model_selection import train_test_split\n",
        "from sklearn.metrics import confusion_matrix, ConfusionMatrixDisplay"
      ],
      "metadata": {
        "id": "kIdz_s0nU-0T"
      },
      "execution_count": 60,
      "outputs": []
    },
    {
      "cell_type": "code",
      "source": [
        "np.random.seed(42)\n",
        "\n",
        "# synthetic dataset\n",
        "X, y = make_classification(\n",
        "    n_samples=1000,\n",
        "    n_features=20,\n",
        "    n_classes=5,\n",
        "    n_clusters_per_class=1,\n",
        "    n_informative=15,\n",
        "    random_state=42,\n",
        ")\n",
        "\n",
        "X_train, X_test, Y_train, Y_test = train_test_split(X, y, test_size=0.2, random_state=42)"
      ],
      "metadata": {
        "id": "n4d1gLCFVE0M"
      },
      "execution_count": 61,
      "outputs": []
    },
    {
      "cell_type": "code",
      "source": [
        "def one_hot_encode(labels, num_classes):\n",
        "    return np.eye(num_classes)[labels]\n",
        "\n",
        "Y_train_encoded = one_hot_encode(Y_train, num_classes=5)\n",
        "Y_test_encoded = one_hot_encode(Y_test, num_classes=5)"
      ],
      "metadata": {
        "id": "dxsGbfLlVKQT"
      },
      "execution_count": 62,
      "outputs": []
    },
    {
      "cell_type": "code",
      "source": [
        "def sigmoid(x, der=False):\n",
        "    if der:\n",
        "        return x * (1 - x)\n",
        "    return 1 / (1 + np.exp(-x))"
      ],
      "metadata": {
        "id": "W9nf1POgVN40"
      },
      "execution_count": 63,
      "outputs": []
    },
    {
      "cell_type": "code",
      "source": [
        "def softmax(x):\n",
        "    exp_x = np.exp(x - np.max(x, axis=1, keepdims=True))\n",
        "    return exp_x / np.sum(exp_x, axis=1, keepdims=True)"
      ],
      "metadata": {
        "id": "79GyAyThVRk_"
      },
      "execution_count": 64,
      "outputs": []
    },
    {
      "cell_type": "code",
      "source": [
        "class NeuralNetwork:\n",
        "    def __init__(self):\n",
        "        self.input_neurons = 20\n",
        "        self.hidden_neurons_1 = 32\n",
        "        self.hidden_neurons_2 = 16\n",
        "        self.hidden_neurons_3 = 8\n",
        "        self.output_neurons = 5\n",
        "        self.learning_rate = 0.01\n",
        "\n",
        "        # weights\n",
        "        self.W1 = np.random.randn(self.input_neurons, self.hidden_neurons_1)\n",
        "        self.W2 = np.random.randn(self.hidden_neurons_1, self.hidden_neurons_2)\n",
        "        self.W3 = np.random.randn(self.hidden_neurons_2, self.hidden_neurons_3)\n",
        "        self.W4 = np.random.randn(self.hidden_neurons_3, self.output_neurons)\n",
        "\n",
        "    def feedForward(self, X):\n",
        "        self.Z1 = np.dot(X, self.W1)\n",
        "        self.A1 = sigmoid(self.Z1)\n",
        "\n",
        "        self.Z2 = np.dot(self.A1, self.W2)\n",
        "        self.A2 = sigmoid(self.Z2)\n",
        "\n",
        "        self.Z3 = np.dot(self.A2, self.W3)\n",
        "        self.A3 = sigmoid(self.Z3)\n",
        "\n",
        "        self.Z4 = np.dot(self.A3, self.W4)\n",
        "        self.output = softmax(self.Z4)\n",
        "\n",
        "        return self.output\n",
        "\n",
        "    def backPropagation(self, X, Y, output):\n",
        "        error = output - Y\n",
        "\n",
        "        dW4 = np.dot(self.A3.T, error)\n",
        "        dW3 = np.dot(self.A2.T, np.dot(error, self.W4.T) * sigmoid(self.A3, der=True))\n",
        "        dW2 = np.dot(self.A1.T, np.dot(np.dot(error, self.W4.T) * sigmoid(self.A3, der=True), self.W3.T) * sigmoid(self.A2, der=True))\n",
        "        dW1 = np.dot(X.T, np.dot(np.dot(np.dot(error, self.W4.T) * sigmoid(self.A3, der=True), self.W3.T) * sigmoid(self.A2, der=True), self.W2.T) * sigmoid(self.A1, der=True))\n",
        "\n",
        "        # Update weights\n",
        "        self.W4 -= self.learning_rate * dW4\n",
        "        self.W3 -= self.learning_rate * dW3\n",
        "        self.W2 -= self.learning_rate * dW2\n",
        "        self.W1 -= self.learning_rate * dW1\n",
        "\n",
        "    def train(self, X, Y, epochs):\n",
        "        errors = []\n",
        "        for epoch in range(epochs):\n",
        "            output = self.feedForward(X)\n",
        "            self.backPropagation(X, Y, output)\n",
        "\n",
        "            loss = -np.mean(np.sum(Y * np.log(output + 1e-9), axis=1))\n",
        "            errors.append(loss)\n",
        "\n",
        "            if epoch % 1000 == 0:\n",
        "                print(f\"Epoch {epoch}/{epochs} - Loss: {loss:.4f}\")\n",
        "\n",
        "        return errors"
      ],
      "metadata": {
        "id": "-Y3CVagAVT70"
      },
      "execution_count": 65,
      "outputs": []
    },
    {
      "cell_type": "code",
      "source": [
        "NN = NeuralNetwork()\n",
        "\n",
        "epochs = 10000\n",
        "errors = NN.train(X_train, Y_train_encoded, epochs)"
      ],
      "metadata": {
        "colab": {
          "base_uri": "https://localhost:8080/"
        },
        "id": "6-Fj4SJuVddh",
        "outputId": "f46183b7-0962-4d2d-b5a7-f39832d8e81e"
      },
      "execution_count": 66,
      "outputs": [
        {
          "output_type": "stream",
          "name": "stdout",
          "text": [
            "Epoch 0/10000 - Loss: 2.1116\n",
            "Epoch 1000/10000 - Loss: 0.0019\n",
            "Epoch 2000/10000 - Loss: 0.0007\n",
            "Epoch 3000/10000 - Loss: 0.0004\n",
            "Epoch 4000/10000 - Loss: 0.0002\n",
            "Epoch 5000/10000 - Loss: 0.0002\n",
            "Epoch 6000/10000 - Loss: 0.0001\n",
            "Epoch 7000/10000 - Loss: 0.0001\n",
            "Epoch 8000/10000 - Loss: 0.0001\n",
            "Epoch 9000/10000 - Loss: 0.0001\n"
          ]
        }
      ]
    },
    {
      "cell_type": "code",
      "source": [
        "plt.figure(figsize=(10, 6))\n",
        "plt.plot(errors, label=\"Training Loss\")\n",
        "plt.xlabel(\"Epochs\")\n",
        "plt.ylabel(\"Loss\")\n",
        "plt.title(\"Training Loss Over Epochs\")\n",
        "plt.legend()\n",
        "plt.show()"
      ],
      "metadata": {
        "colab": {
          "base_uri": "https://localhost:8080/",
          "height": 564
        },
        "id": "uttY5VeIViuO",
        "outputId": "6f880580-4bea-4368-8424-5e12066266f1"
      },
      "execution_count": 67,
      "outputs": [
        {
          "output_type": "display_data",
          "data": {
            "text/plain": [
              "<Figure size 1000x600 with 1 Axes>"
            ],
            "image/png": "[encoded data removed]"
          },
          "metadata": {}
        }
      ]
    },
    {
      "cell_type": "code",
      "source": [
        "predictions = np.argmax(NN.feedForward(X_test), axis=1)\n",
        "accuracy = np.mean(predictions == Y_test.flatten())\n",
        "print(f\"Test Accuracy: {accuracy * 100:.2f}%\")"
      ],
      "metadata": {
        "colab": {
          "base_uri": "https://localhost:8080/"
        },
        "id": "ZBo0mlx6VnM2",
        "outputId": "fabf8991-2adb-4ffd-b747-ad89c0529a37"
      },
      "execution_count": 68,
      "outputs": [
        {
          "output_type": "stream",
          "name": "stdout",
          "text": [
            "Test Accuracy: 80.00%\n"
          ]
        }
      ]
    },
    {
      "cell_type": "code",
      "source": [
        "cm = confusion_matrix(Y_test, predictions)\n",
        "disp = ConfusionMatrixDisplay(confusion_matrix=cm, display_labels=[0, 1, 2, 3, 4])\n",
        "disp.plot(cmap=\"Blues\")\n",
        "plt.title(\"Confusion Matrix\")\n",
        "plt.show()"
      ],
      "metadata": {
        "colab": {
          "base_uri": "https://localhost:8080/",
          "height": 472
        },
        "id": "XFxEmQLfVqjC",
        "outputId": "40cee0ff-e9b0-4021-b290-ab582dea1639"
      },
      "execution_count": 69,
      "outputs": [
        {
          "output_type": "display_data",
          "data": {
            "text/plain": [
              "<Figure size 640x480 with 2 Axes>"
            ],
            "image/png": "[encoded data removed]"
          },
          "metadata": {}
        }
      ]
    },
    {
      "cell_type": "code",
      "source": [
        "print(\"Sample Predictions:\")\n",
        "for i in range(5):\n",
        "    probs = NN.feedForward([X_test[i]])[0]\n",
        "    print(f\"Input: {X_test[i]}, Probabilities: {probs}, Prediction: {np.argmax(probs)}, Actual: {Y_test[i]}\")"
      ],
      "metadata": {
        "colab": {
          "base_uri": "https://localhost:8080/"
        },
        "id": "lRHHsRc6VuC7",
        "outputId": "6f9e4e6d-7fbd-48df-9f33-6017f2015fa9"
      },
      "execution_count": 70,
      "outputs": [
        {
          "output_type": "stream",
          "name": "stdout",
          "text": [
            "Sample Predictions:\n",
            "Input: [ -1.67320606  -0.23774181   0.72559875  -0.55704193  -5.58607867\n",
            "   3.1878913   -0.36825876   4.54109628  -1.72173634  -0.83377953\n",
            "  -1.0683717  -10.33698659  -1.0275724    2.35665715  -1.74170457\n",
            "   3.1187607   -3.74009973   1.47932603  -4.66699483  -0.48183943], Probabilities: [3.88269522e-05 4.25564264e-06 2.15828166e-10 6.81174074e-09\n",
            " 9.99956910e-01], Prediction: 4, Actual: 4\n",
            "Input: [  3.27299762  -0.99195028  -0.03711134  -1.96565004   4.26136734\n",
            "   2.40596334  -0.40985864   7.78400889  -7.71974391   0.35310078\n",
            "   0.19589638 -14.12836485  -5.03186561  -6.21069018  -6.84202153\n",
            "   1.01561574  -2.16585922  -4.3985182   -2.6801046    1.74511356], Probabilities: [6.65884095e-06 2.11578824e-07 4.70329012e-08 9.99993038e-01\n",
            " 4.48144835e-08], Prediction: 3, Actual: 3\n",
            "Input: [ 1.92257418  2.12674786  0.69211272  3.64172352  3.51096432 -5.37037388\n",
            " -0.01006303 -0.78688598  1.16798002  0.2628573  -3.53539682 -7.43894873\n",
            " -4.05721052 -0.36848042  0.47739248  4.18522222 -1.8090998   1.52484724\n",
            "  0.37379329  1.43748532], Probabilities: [2.42250139e-04 8.94900362e-01 3.93022679e-05 1.66704839e-05\n",
            " 1.04801416e-01], Prediction: 1, Actual: 4\n",
            "Input: [-3.9504443   0.58287014 -0.38419897  0.46664465  1.80413964 -1.8897162\n",
            "  1.8717277  -3.31103691  2.2080504   0.18585497  0.95089563  8.91927949\n",
            " -0.99288611  2.81230234  5.25721116 -1.58398194  0.23168545 -0.61065903\n",
            "  2.20158152  2.20888711], Probabilities: [3.12711750e-08 2.20952920e-03 1.57326855e-07 2.57560432e-07\n",
            " 9.97790025e-01], Prediction: 4, Actual: 4\n",
            "Input: [-1.82883399 -0.5094075  -0.65636853 -1.52628451  1.91174086 -2.56801693\n",
            " -1.86332302 -2.66563146  1.08563344  0.85394896  3.42196467 14.93138368\n",
            "  0.27073955 -1.77087875  2.33771134 -3.38056306 -0.45638098 -0.06392532\n",
            " -1.10493316 -3.2419669 ], Probabilities: [6.94680480e-10 3.51960968e-06 9.99993848e-01 2.63163318e-06\n",
            " 4.08591612e-10], Prediction: 2, Actual: 2\n"
          ]
        }
      ]
    }
  ]
}